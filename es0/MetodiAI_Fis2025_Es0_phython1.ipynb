{
  "nbformat": 4,
  "nbformat_minor": 0,
  "metadata": {
    "colab": {
      "provenance": [],
      "include_colab_link": true
    },
    "kernelspec": {
      "name": "python3",
      "display_name": "Python 3"
    }
  },
  "cells": [
    {
      "cell_type": "markdown",
      "metadata": {
        "id": "view-in-github",
        "colab_type": "text"
      },
      "source": [
        "<a href=\"https://colab.research.google.com/github/stefanogiagu/corso_AI_2025/blob/main/es0/MetodiAI_Fis2025_Es0_phython1.ipynb\" target=\"_parent\"><img src=\"https://colab.research.google.com/assets/colab-badge.svg\" alt=\"Open In Colab\"/></a>"
      ]
    },
    {
      "cell_type": "markdown",
      "metadata": {
        "id": "spfGccoIID_A"
      },
      "source": [
        "# Esercitazione E0: introduzione al python\n",
        "\n",
        "**Task:**\n",
        "\n",
        "1. prendere familiarità con google colab, notebook, python\n",
        "2. utilizzo di cicli while, if-then, e loop\n",
        "2. implementazione di un algoritmo basilare di regressione lineare\n",
        "3. primo grafico con la libreria matplotlib\n",
        "\n",
        "\n",
        "**NOTA IMPORTANTE:** se avete aperto il notebook da github tramite il link \"open in colab\", **ricordatevi sempre** di creare una vostra copia modificabile del notebook e di lavorare su tale copia (cliccando in \"Copy to Drive\" nella barra superiore del notebook)"
      ]
    },
    {
      "cell_type": "markdown",
      "source": [
        "Questa è una cella di testo ... *italicized text* e **bold text**\n",
        "\n",
        "Si può scrivere anche testo in Latex:\n",
        "\n",
        "* $\\int_0^\\infty f(x) dx$\n",
        "\n",
        "* $\\sqrt{\\Delta\\phi^2 + \\Delta\\eta^2} = R^2$\n",
        "\n"
      ],
      "metadata": {
        "id": "pr6w3GUn8ydz"
      }
    },
    {
      "cell_type": "code",
      "source": [
        "#Questa è una cella di codice (eg un interpreate python)\n",
        "\n",
        "#si possono eseguire operazioni:\n",
        "\n",
        "3 + 5"
      ],
      "metadata": {
        "colab": {
          "base_uri": "https://localhost:8080/"
        },
        "id": "_p7jjm6P8xuV",
        "outputId": "c17b39db-f9d0-4c74-ba7e-f239e680ee60"
      },
      "execution_count": null,
      "outputs": [
        {
          "output_type": "execute_result",
          "data": {
            "text/plain": [
              "8"
            ]
          },
          "metadata": {},
          "execution_count": 1
        }
      ]
    },
    {
      "cell_type": "code",
      "source": [
        "#oppure scrivere un intero (o una parte) programma in python\n",
        "\n",
        "\n",
        "#calcoliamo il fattoriale di n\n",
        "\n",
        "n = 4\n",
        "\n",
        "def fattoriale(n):\n",
        "  fact = 1\n",
        "  while n>0:\n",
        "    fact *= n\n",
        "    n -= 1\n",
        "  return fact\n",
        "\n",
        "print('il fattoriale di ', n , ' è ', fattoriale(n))"
      ],
      "metadata": {
        "colab": {
          "base_uri": "https://localhost:8080/"
        },
        "id": "n_Nu1KJjYbNg",
        "outputId": "00885381-34e0-47e1-e08f-5d4ee7d9ff44"
      },
      "execution_count": null,
      "outputs": [
        {
          "output_type": "stream",
          "name": "stdout",
          "text": [
            "il fattoriale di  4  è  24\n"
          ]
        }
      ]
    },
    {
      "cell_type": "code",
      "source": [
        "#python supporta funzioni ricorsive ...\n",
        "\n",
        "n = 4\n",
        "def fattoriale(n):\n",
        "  if n == 0:\n",
        "    return 1\n",
        "  else:\n",
        "    return n*fattoriale(n-1)\n",
        "\n",
        "print('il fattoriale di ', n , ' è ', fattoriale(n))"
      ],
      "metadata": {
        "colab": {
          "base_uri": "https://localhost:8080/"
        },
        "id": "g7SISpHXamXK",
        "outputId": "d6d655fb-9aba-4f3c-ee57-47c2ad24b59e"
      },
      "execution_count": null,
      "outputs": [
        {
          "output_type": "stream",
          "name": "stdout",
          "text": [
            "il fattoriale di  4  è  24\n"
          ]
        }
      ]
    },
    {
      "cell_type": "code",
      "source": [
        "# if then statement in python\n",
        "\n",
        "x = -0.1\n",
        "\n",
        "if x > 0:\n",
        "  print (x, 'is positive')\n",
        "elif x < 0:\n",
        "  print (x, 'is negative')\n",
        "else:\n",
        "  print (x, 'is zero')"
      ],
      "metadata": {
        "colab": {
          "base_uri": "https://localhost:8080/"
        },
        "id": "sNZ-Ywr7chDE",
        "outputId": "2dd79593-7b84-4fa4-a486-c06c8d6d041e"
      },
      "execution_count": null,
      "outputs": [
        {
          "output_type": "stream",
          "name": "stdout",
          "text": [
            "-0.1 is negative\n"
          ]
        }
      ]
    },
    {
      "cell_type": "code",
      "source": [
        "# un for loop in python\n",
        "\n",
        "for i in [1,2,3,4,5]:\n",
        "  print(i)"
      ],
      "metadata": {
        "colab": {
          "base_uri": "https://localhost:8080/"
        },
        "id": "M9gkNZcBc80g",
        "outputId": "cabcc525-dcdd-411d-b954-b563b95a15fa"
      },
      "execution_count": null,
      "outputs": [
        {
          "output_type": "stream",
          "name": "stdout",
          "text": [
            "1\n",
            "2\n",
            "3\n",
            "4\n",
            "5\n"
          ]
        }
      ]
    },
    {
      "cell_type": "code",
      "source": [
        "for i in range(0,10):\n",
        "  print(i)"
      ],
      "metadata": {
        "colab": {
          "base_uri": "https://localhost:8080/"
        },
        "id": "ZFk9fXN_dGZp",
        "outputId": "50350f68-e208-4202-d914-1c994eabb842"
      },
      "execution_count": null,
      "outputs": [
        {
          "output_type": "stream",
          "name": "stdout",
          "text": [
            "0\n",
            "1\n",
            "2\n",
            "3\n",
            "4\n",
            "5\n",
            "6\n",
            "7\n",
            "8\n",
            "9\n"
          ]
        }
      ]
    },
    {
      "cell_type": "code",
      "source": [
        "for i in ['ciao',1,2,99.3,'pinco-pallino']:\n",
        "  print(i)"
      ],
      "metadata": {
        "colab": {
          "base_uri": "https://localhost:8080/"
        },
        "id": "7F3-uI6gdPSh",
        "outputId": "b67ebf3b-afd4-48ff-960e-79f509b2b73d"
      },
      "execution_count": null,
      "outputs": [
        {
          "output_type": "stream",
          "name": "stdout",
          "text": [
            "ciao\n",
            "1\n",
            "2\n",
            "99.3\n",
            "pinco-pallino\n"
          ]
        }
      ]
    },
    {
      "cell_type": "markdown",
      "metadata": {
        "id": "eVODHA43KmPZ"
      },
      "source": [
        "**Esercizio 1:**\n",
        "\n",
        "dati i seguenti oggetti, rappresentarli in python e stamparne il valore:\n",
        "\n",
        "*   scalare: $s = 12.3$   \n",
        "*   vettore: $v = \\left[ 3.0, -2.0, 5.5 \\right]$\n",
        "*   matrice: $M = \\left[\n",
        "\\begin{array}{ccc}\n",
        "  5.0 & 0.8 & -0.2 \\\\\n",
        "-0.8 & 3.0 & -0.8 \\\\\n",
        "0.2 & 0.8 & 1.0\n",
        "\\end{array}\n",
        "\\right]\n",
        "$\n"
      ]
    },
    {
      "cell_type": "code",
      "metadata": {
        "id": "ry3dHetBH4g8"
      },
      "source": [
        "#codice"
      ],
      "execution_count": null,
      "outputs": []
    },
    {
      "cell_type": "code",
      "metadata": {
        "id": "T1kNUJhZpcXJ",
        "colab": {
          "base_uri": "https://localhost:8080/"
        },
        "outputId": "bcf75430-77a1-40c7-9492-94e0106c4200",
        "cellView": "form"
      },
      "source": [
        "#@title Soluzione Esercizio 1\n",
        "#\n",
        "\n",
        "# usiamo i tipi di python: float e liste\n",
        "s1 = 12.3\n",
        "v1 = [3.0,-2.0,5.5]\n",
        "M1 = [\n",
        "     [ 5.0, 0.8, -0.2],\n",
        "     [-0.8, 3.0, -0.8],\n",
        "     [ 0.2, 0.8,  1.0]\n",
        "]\n",
        "\n",
        "print('uno scalare: ',s1)\n",
        "print('un vettore: ',v1)\n",
        "print('una matrice: ',M1)\n",
        "\n",
        "print('')\n",
        "print('stampa della matrice formattata in 2D:')\n",
        "\n",
        "print('M = [')\n",
        "for i in range(3):\n",
        "  print(M1[i],'\\b,')\n",
        "print(']')\n",
        "\n",
        "print('')\n",
        "print('implementazione alternativa basata su loop impliciti di python:')\n",
        "print('M = [')\n",
        "[print(M1[i],'\\b,') for i in range(3)]\n",
        "print(']')"
      ],
      "execution_count": null,
      "outputs": [
        {
          "output_type": "stream",
          "name": "stdout",
          "text": [
            "uno scalare:  12.3\n",
            "un vettore:  [3.0, -2.0, 5.5]\n",
            "una matrice:  [[5.0, 0.8, -0.2], [-0.8, 3.0, -0.8], [0.2, 0.8, 1.0]]\n",
            "\n",
            "stampa della matrice formattata in 2D:\n",
            "M = [\n",
            "[5.0, 0.8, -0.2] \b,\n",
            "[-0.8, 3.0, -0.8] \b,\n",
            "[0.2, 0.8, 1.0] \b,\n",
            "]\n",
            "\n",
            "implementazione alternativa basata su loop impliciti di python:\n",
            "M = [\n",
            "[5.0, 0.8, -0.2] \b,\n",
            "[-0.8, 3.0, -0.8] \b,\n",
            "[0.2, 0.8, 1.0] \b,\n",
            "]\n"
          ]
        }
      ]
    },
    {
      "cell_type": "markdown",
      "metadata": {
        "id": "urbTuPskhAgy"
      },
      "source": [
        "**Esercizio 2:**\n",
        "\n",
        "usando python calcolare e printare i valori di:\n",
        "\n",
        "1.   $y = v+v$\n",
        "2.   $y = sv$\n",
        "2.   $y = v\\cdot v$\n",
        "3.   $y = Mv$\n",
        "4.   $Y = M^2$\n",
        "\n",
        "\n",
        "NOTA:\n",
        "$$\n",
        "\\begin{array}{cccc}\n",
        "\\huge[\n",
        "M\n",
        "]  \n",
        "&\\times &\n",
        "\\huge[\n",
        "v\n",
        "]\n",
        "&=&\n",
        "\\huge[\n",
        "y\n",
        "]\n",
        "\\\\\n",
        "m \\times n && n \\times 1 &=&  m \\times 1\n",
        "\\end{array}\n",
        "$$\n",
        "\n",
        "<p>\n",
        "<p>\n",
        "<p>\n",
        "\n",
        "\n",
        "$$\n",
        "\\begin{array}{cccc}\n",
        "\\huge[\n",
        "M\n",
        "]  \n",
        "&\\times &\n",
        "\\huge[\n",
        "N\n",
        "]\n",
        "&=&\n",
        "\\huge[\n",
        "Y\n",
        "]\n",
        "\\\\\n",
        "m \\times n && n \\times p &=&  m \\times p\n",
        "\\end{array}\n",
        "$$\n",
        "\n",
        "\n"
      ]
    },
    {
      "cell_type": "code",
      "metadata": {
        "id": "VN9uCwZIiyzP"
      },
      "source": [
        "#codice"
      ],
      "execution_count": null,
      "outputs": []
    },
    {
      "cell_type": "code",
      "metadata": {
        "colab": {
          "base_uri": "https://localhost:8080/"
        },
        "id": "NuoQRqGhq9R1",
        "cellView": "form",
        "outputId": "c31c0ffb-5445-43e8-e18b-bf64d6170e8a"
      },
      "source": [
        "#@title Soluzione 2\n",
        "# usiamo tipi float e liste in python\n",
        "s1 = 12.3\n",
        "v1 = [3.0,-2.0,5.5]\n",
        "M1 = [\n",
        "     [ 5.0, 0.8, -0.2],\n",
        "     [-0.8, 3.0, -0.8],\n",
        "     [ 0.2, 0.8,  1.0]\n",
        "]\n",
        "\n",
        "# soluzione scritta in modo pedante\n",
        "y1 = []\n",
        "y2 = []\n",
        "y3 = 0\n",
        "for i in range(len(v1)):\n",
        "  y1.append(v1[i]+v1[i])\n",
        "  y2.append(s1*v1[i])\n",
        "  y3 += (v1[i]*v1[i])\n",
        "\n",
        "y4 = []\n",
        "for i in range(len(M1)):\n",
        "  tmp = 0.0\n",
        "  for j in range(len(v1)):\n",
        "    tmp += (M1[i][j]*v1[j])\n",
        "  y4.append(tmp)\n",
        "\n",
        "\n",
        "y5 = [ [0, 0, 0],\n",
        "       [0, 0, 0],\n",
        "       [0, 0, 0]\n",
        "]\n",
        "for i in range(len(M1)):\n",
        "  for j in range(len(M1[0])):\n",
        "     for k in range(len(M1)):\n",
        "           y5[i][j] += M1[i][k] * M1[k][j]\n",
        "\n",
        "print('v+v = ',y1)\n",
        "print('')\n",
        "print('sv = ', y2)\n",
        "print('')\n",
        "print('v . v = ',y3)\n",
        "print('')\n",
        "print('Mv = ',y4)\n",
        "print('')\n",
        "print('M^2 = [')\n",
        "[print(y5[i],'\\b,') for i in range(3)]\n",
        "print(']')\n",
        "print('')\n",
        "\n",
        "print('stesso printout ma formattato:')\n",
        "print('v+v = [', end='')\n",
        "[print('{:3.1f}, '.format(member), end='') for member in y1]\n",
        "print('\\b\\b]')\n",
        "\n",
        "print('')\n",
        "print('sv = [', end='')\n",
        "[print('{:5.2f}, '.format(member), end='') for member in y2]\n",
        "print('\\b\\b]')\n",
        "\n",
        "print('')\n",
        "print('v . v = {:5.2f}'.format(y3))\n",
        "\n",
        "print('')\n",
        "print('Mv = [', end='')\n",
        "[print('{:3.1f}, '.format(member), end='') for member in y4]\n",
        "print('\\b\\b]')\n",
        "\n",
        "print('')\n",
        "print('M^2 = [')\n",
        "for member in y5:\n",
        "  print('[', end='')\n",
        "  [print('{:5.2f},'.format(element), end='') for element in member]\n",
        "  print('\\b]')\n",
        "print(']')\n",
        "print('')\n",
        "\n",
        "\n",
        "print('')\n",
        "print('modo molto compatto (ma meno leggibile) per risolvere il compito usando loop impliciti in python')\n",
        "# modo compatto (ma meno leggibile) usando loop impliciti in python\n",
        "y1 = [a*a for a in v1]\n",
        "print(y1)\n",
        "print('v+v = [', end='')\n",
        "[print('{:3.1f}, '.format(member), end='') for member in y1]\n",
        "print('\\b\\b]')\n",
        "print('')\n",
        "\n",
        "y2 = [s1*a for a in v1]\n",
        "print('sv = [', end='')\n",
        "[print('{:5.2f}, '.format(member), end='') for member in y2]\n",
        "print('\\b\\b]')\n",
        "print('')\n",
        "\n",
        "y3 = sum(a*b for a,b in zip(v1,v1))\n",
        "print('v . v = {:5.2f}'.format(y3))\n",
        "print('')\n",
        "\n",
        "y4 = [sum(a*b for a,b in zip(M_raw,v1)) for M_raw in M1]\n",
        "print('Mv = [', end='')\n",
        "[print('{:3.1f}, '.format(member), end='') for member in y4]\n",
        "print('\\b\\b]')\n",
        "print('')\n",
        "\n",
        "y5 = [[sum(a*b for a,b in zip(M_row,M_col)) for M_col in zip(*M1)] for M_row in M1]\n",
        "print('M^2 = [')\n",
        "for member in y5:\n",
        "  print('[', end='')\n",
        "  [print('{:5.2f},'.format(element), end='') for element in member]\n",
        "  print('\\b]')\n",
        "print(']')\n",
        "print('')\n",
        "\n",
        "print('NOTA: *lista --> unpack la lista')\n",
        "print('NOTA2: zip(): funzione che unisce le due liste insieme')\n",
        "print('esempio: \\n')\n",
        "print('*M = ', *M1)\n",
        "A1 = zip(M1,M1)\n",
        "print('zip(M1,M1) = ',tuple(A1))"
      ],
      "execution_count": null,
      "outputs": [
        {
          "output_type": "stream",
          "name": "stdout",
          "text": [
            "v+v =  [6.0, -4.0, 11.0]\n",
            "\n",
            "sv =  [36.900000000000006, -24.6, 67.65]\n",
            "\n",
            "v . v =  43.25\n",
            "\n",
            "Mv =  [12.3, -12.8, 4.5]\n",
            "\n",
            "M^2 = [\n",
            "[24.32, 6.24, -1.84] \b,\n",
            "[-6.5600000000000005, 7.719999999999999, -3.04] \b,\n",
            "[0.5599999999999998, 3.3600000000000003, 0.31999999999999984] \b,\n",
            "]\n",
            "\n",
            "stesso printout ma formattato:\n",
            "v+v = [6.0, -4.0, 11.0, \b\b]\n",
            "\n",
            "sv = [36.90, -24.60, 67.65, \b\b]\n",
            "\n",
            "v . v = 43.25\n",
            "\n",
            "Mv = [12.3, -12.8, 4.5, \b\b]\n",
            "\n",
            "M^2 = [\n",
            "[24.32, 6.24,-1.84,\b]\n",
            "[-6.56, 7.72,-3.04,\b]\n",
            "[ 0.56, 3.36, 0.32,\b]\n",
            "]\n",
            "\n",
            "\n",
            "modo molto compatto (ma meno leggibile) per risolvere il compito usando loop impliciti in python\n",
            "[9.0, 4.0, 30.25]\n",
            "v+v = [9.0, 4.0, 30.2, \b\b]\n",
            "\n",
            "sv = [36.90, -24.60, 67.65, \b\b]\n",
            "\n",
            "v . v = 43.25\n",
            "\n",
            "Mv = [12.3, -12.8, 4.5, \b\b]\n",
            "\n",
            "M^2 = [\n",
            "[24.32, 6.24,-1.84,\b]\n",
            "[-6.56, 7.72,-3.04,\b]\n",
            "[ 0.56, 3.36, 0.32,\b]\n",
            "]\n",
            "\n",
            "NOTA: *lista --> unpack la lista\n",
            "NOTA2: zip(): funzione che unisce le due liste insieme\n",
            "esempio: \n",
            "\n",
            "*M =  [5.0, 0.8, -0.2] [-0.8, 3.0, -0.8] [0.2, 0.8, 1.0]\n",
            "zip(M1,M1) =  (([5.0, 0.8, -0.2], [5.0, 0.8, -0.2]), ([-0.8, 3.0, -0.8], [-0.8, 3.0, -0.8]), ([0.2, 0.8, 1.0], [0.2, 0.8, 1.0]))\n"
          ]
        }
      ]
    },
    {
      "cell_type": "markdown",
      "metadata": {
        "id": "QZGXlKJfjHt1"
      },
      "source": [
        "**Esercizio 3:**\n",
        "\n",
        "costruire la matrice unità ${\\bf 1}$ e verificare che $M{\\bf 1} = {\\bf 1}M = M$"
      ]
    },
    {
      "cell_type": "code",
      "metadata": {
        "id": "Nbk1J_yYlDkw"
      },
      "source": [
        "#codice"
      ],
      "execution_count": null,
      "outputs": []
    },
    {
      "cell_type": "code",
      "source": [
        "#@title Soluzione 3\n",
        "\n",
        "M1 = [\n",
        "     [ 5.0, 0.8, -0.2],\n",
        "     [-0.8, 3.0, -0.8],\n",
        "     [ 0.2, 0.8,  1.0]\n",
        "]\n",
        "\n",
        "I1 = [\n",
        "     [1.0, 0.0, 0.0],\n",
        "     [0.0, 1.0, 0.0],\n",
        "     [0.0, 0.0, 1.0]\n",
        "]\n",
        "\n",
        "y6 = [[sum(a*b for a,b in zip(M_row,M_col)) for M_col in zip(*M1)] for M_row in I1]\n",
        "y7 = [[sum(a*b for a,b in zip(M_row,M_col)) for M_col in zip(*I1)] for M_row in M1]\n",
        "\n",
        "print('')\n",
        "print('M = [')\n",
        "[print(M1[i],'\\b,') for i in range(3)]\n",
        "print(']')\n",
        "\n",
        "print('')\n",
        "print('I = [')\n",
        "[print(I1[i],'\\b,') for i in range(3)]\n",
        "print(']')\n",
        "\n",
        "print('')\n",
        "print('MI = [')\n",
        "[print(y6[i],'\\b,') for i in range(3)]\n",
        "print(']')\n",
        "\n",
        "print('')\n",
        "print('IM = [')\n",
        "[print(y7[i],'\\b,') for i in range(3)]\n",
        "print(']')\n",
        "\n",
        "# confrontiamo le matrici tra loro (attenzione alla floating point arithmetic!)\n",
        "\n",
        "equal1 = True\n",
        "equal2 = True\n",
        "equal3 = True\n",
        "precisione = 1e-8\n",
        "for i in range(3):\n",
        "  for j in range(3):\n",
        "    if abs(y6[i][j]-y7[i][j])>precisione:\n",
        "      equal1 = False\n",
        "    if abs(y6[i][j]-M1[i][j])>precisione:\n",
        "      equal2 = False\n",
        "    if abs(y7[i][j]-M1[i][j])>precisione:\n",
        "      equal3 = False\n",
        "\n",
        "if equal1 and equal2 and equal3:\n",
        "  print('verificato')"
      ],
      "metadata": {
        "colab": {
          "base_uri": "https://localhost:8080/"
        },
        "cellView": "form",
        "id": "8O0CyfeBNl3_",
        "outputId": "ef6873af-02c1-4cc6-ad18-7ac1548db087"
      },
      "execution_count": null,
      "outputs": [
        {
          "output_type": "stream",
          "name": "stdout",
          "text": [
            "\n",
            "M = [\n",
            "[5.0, 0.8, -0.2] \b,\n",
            "[-0.8, 3.0, -0.8] \b,\n",
            "[0.2, 0.8, 1.0] \b,\n",
            "]\n",
            "\n",
            "I = [\n",
            "[1.0, 0.0, 0.0] \b,\n",
            "[0.0, 1.0, 0.0] \b,\n",
            "[0.0, 0.0, 1.0] \b,\n",
            "]\n",
            "\n",
            "MI = [\n",
            "[5.0, 0.8, -0.2] \b,\n",
            "[-0.8, 3.0, -0.8] \b,\n",
            "[0.2, 0.8, 1.0] \b,\n",
            "]\n",
            "\n",
            "IM = [\n",
            "[5.0, 0.8, -0.2] \b,\n",
            "[-0.8, 3.0, -0.8] \b,\n",
            "[0.2, 0.8, 1.0] \b,\n",
            "]\n",
            "verificato\n"
          ]
        }
      ]
    },
    {
      "cell_type": "markdown",
      "source": [
        "**Esercizio 4:**\n",
        "\n",
        "provare ad implementare un'algoritmo basilare di regressione lineare\n",
        "\n",
        "1.   viene dato il seguente dataset di coppie di misure $T\\{x_i,y_i\\}, i=1,\\cdots N$:\n",
        "\n",
        "\n",
        "\n",
        "```\n",
        "x = [0., 2.22, 4.44, 6.67, 8.89, 11.11, 13.33, 15.56, 17.788, 20.0]\n",
        "\n",
        "y = [-2.1489976, 1.26684956, 5.00441023, 3.84220594, 5.95983884, 6.44189515,\n",
        "  6.88238407, 12.04053287, 10.73255652, 10.29414663]\n",
        "```\n",
        "\n",
        "2.  si ipotizza che il campione sia stato prodotto in accordo ad una funzione lineare del tipo: $y = \\theta x + \\epsilon\\,,\\quad \\epsilon\\sim\\mathcal N(0,\\sigma)$, in cui $x\\in\\mathbb{R}$ rappresenta l'input, $\\theta=0.6$, e $y\\in\\mathbb{R}$ le osservazioni \"rumorose\" ($\\epsilon$ è un numero random gaussiano estratto evento per evento)\n",
        "\n",
        "3. si chiede di scrivere ed allenare un modello lineare di ML che apprenda la funzione di mapping $y=f_\\theta(x)$, addestrando l'algoritmo in modo empirico in base a $k$ step di addestramento, in cui, partendo da un valore random del parametro $\\theta$ nell'intervallo $(0,1)$, si aggiorni il valore di $\\theta$ ad ogni step muovendosi in un intervallo piccolo introno al valore corrente del paramento, e accettando la nuova soluzione in accordo alla funzione di costo Mean Squared Error: $MSE$ definita come: $MSE(\\theta) = \\frac{1}{N}\\sum_{i=1}^N (y_i - f_\\theta(x_i))^2$, in cui la somma è fatta su gli elementi del dataset.\n",
        "\n",
        "\n",
        "```\n",
        "# per generare numeri pesudorandom in python\n",
        "# import xxxx, importa la libreria python xxxx\n",
        "\n",
        "import random\n",
        "\n",
        "a = random.random()\n",
        "print(a)\n",
        "```\n",
        "\n",
        "\n",
        "\n",
        "3.   testare le predizioni del modello con input $x \\in [0.,20.]$ e confrontare con l'andamento teorico ipotizzato ($\\theta = 0.6$), calcolando l'MSE tra risultati predetti e quelli veri attesi assumendo $\\theta=0.6$.\n",
        "\n",
        "4.   guardare alla soluzione proposta per vedere come è possibile graficare in un plot $y$ VS $x$, i risultati ottenuti, sfruttando la libreraia python **matplotlib** (che vedremo più in dettaglio nella prossima lezione)."
      ],
      "metadata": {
        "id": "PMtScIQEZQcm"
      }
    },
    {
      "cell_type": "markdown",
      "source": [],
      "metadata": {
        "id": "wiCQgl9ign-m"
      }
    },
    {
      "cell_type": "code",
      "source": [
        "#code"
      ],
      "metadata": {
        "id": "vvZ4tCkYeui-"
      },
      "execution_count": null,
      "outputs": []
    },
    {
      "cell_type": "code",
      "source": [
        "#@title Soluzione 4\n",
        "\n",
        "\n",
        "# creo due liste contenenti i dati del camppione di training:\n",
        "x_train = [0., 2.22, 4.44, 6.67, 8.89, 11.11, 13.33, 15.56, 17.788, 20.0]\n",
        "\n",
        "y_train = [-2.1489976, 1.26684956, 5.00441023, 3.84220594, 5.95983884, 6.44189515,\n",
        "  6.88238407, 12.04053287, 10.73255652, 10.29414663]\n",
        "\n",
        "# creo una funzione che implementa il modello lineare\n",
        "def model(x, w):\n",
        "  return w*x\n",
        "\n",
        "# creo una funzione che implementa la loss MSE\n",
        "# input sono due liste (x, y) e il valore del parametro w\n",
        "def mse_loss(x, y, w):\n",
        "  res = 0.0\n",
        "  for event in range(len(x)):\n",
        "    res += (y[event]-model(x[event],w))**2.0\n",
        "  return res/len(x)\n",
        "\n",
        "\n",
        "# training del modello con il campione di training\n",
        "\n",
        "k = 50 #step di addestramento\n",
        "eta = 0.1 #learning rate\n",
        "\n",
        "import random\n",
        "w_star = random.random() #inizializzo in modo random in (0,1) il parametro da addestrare\n",
        "loss_old = mse_loss(x_train,y_train,w_star) # loss iniziale\n",
        "\n",
        "for epoch in range(k):\n",
        "\n",
        "  # mi sposto nel loss landscape di una quantità eta*step con step un numero random in (-1,1)\n",
        "  step = 2*random.random() - 1\n",
        "  w_new = w_star + eta*step\n",
        "\n",
        "  # nuova loss\n",
        "  loss_new = mse_loss(x_train,y_train,w_new)\n",
        "\n",
        "  # se loss_new < loss_old aggiorno w\n",
        "  if loss_new < loss_old:\n",
        "    w_star = w_new\n",
        "    loss_old = loss_new\n",
        "    print('epoch ',epoch, ' improved loss: mse / w_star:', loss_new, ' / ', w_star)\n",
        "\n",
        "print('best model loss = ', mse_loss(x_train,y_train,w_star), ' per w_star = ', w_star, '\\n')\n",
        "\n",
        "# test set\n",
        "x_test = list(range(20)) #creo una lista con 20 valori equispaziati tra 0 e 20\n",
        "y_true = list([model(x_test[ev], 0.6) for ev in range(20)])  # ground truth\n",
        "y_pred = list([model(x_test[ev], w_star) for ev in range(20)]) #risultati predetti sul test set\n",
        "\n",
        "\n",
        "# calcolo mse\n",
        "mse_test = mse_loss(x_test, y_true, w_star)\n",
        "print('MSE test set: ', mse_test)\n",
        "\n",
        "\n",
        "# plot dei risultati usando io modulo pyplot della libreria matplotlib\n",
        "import matplotlib.pyplot as plt\n",
        "\n",
        "plt.figure()\n",
        "plt.plot(x_train, y_train, '+', markersize=10, label='train data')\n",
        "plt.plot(x_test, y_pred, color='blue', alpha=0.5, label='prediction')\n",
        "plt.plot(x_test, y_true, color='green', alpha=0.5, label='ground truth')\n",
        "plt.xlabel(\"$x$\")\n",
        "plt.ylabel(\"$y$\");\n",
        "plt.legend()\n",
        "plt.draw()"
      ],
      "metadata": {
        "colab": {
          "base_uri": "https://localhost:8080/",
          "height": 670
        },
        "cellView": "form",
        "id": "f31OXLJaewLa",
        "outputId": "0d3a4fc1-9ed0-4ac0-f84b-b8c44408663a"
      },
      "execution_count": null,
      "outputs": [
        {
          "output_type": "stream",
          "name": "stdout",
          "text": [
            "epoch  0  improved loss: mse / w_star: 24.080227103664264  /  0.21033063458955836\n",
            "epoch  1  improved loss: mse / w_star: 23.84920581017703  /  0.2124174579596404\n",
            "epoch  2  improved loss: mse / w_star: 19.344474443133237  /  0.25559413212379667\n",
            "epoch  3  improved loss: mse / w_star: 11.968329825325032  /  0.34115570139041534\n",
            "epoch  4  improved loss: mse / w_star: 7.811707900713266  /  0.40492105154130875\n",
            "epoch  5  improved loss: mse / w_star: 4.15989029411239  /  0.4865975290810756\n",
            "epoch  6  improved loss: mse / w_star: 2.408916090389744  /  0.5661317911462403\n",
            "epoch  8  improved loss: mse / w_star: 2.2539350537066136  /  0.6239312590869831\n",
            "epoch  9  improved loss: mse / w_star: 2.2156581030696176  /  0.5943781223624819\n",
            "epoch  23  improved loss: mse / w_star: 2.2021894358196894  /  0.607363792445805\n",
            "best model loss =  2.2021894358196894  per w_star =  0.607363792445805 \n",
            "\n",
            "MSE test set:  0.006696841739334478\n"
          ]
        },
        {
          "output_type": "display_data",
          "data": {
            "text/plain": [
              "<Figure size 640x480 with 1 Axes>"
            ],
            "image/png": "[encoded data removed]"
          },
          "metadata": {}
        }
      ]
    }
  ]
}